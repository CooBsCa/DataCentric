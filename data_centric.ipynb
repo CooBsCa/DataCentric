{
 "cells": [
  {
   "cell_type": "markdown",
   "metadata": {},
   "source": [
    "# Data centric\n",
    "CHEMIN Bastien  \n",
    "GUITON Clément"
   ]
  },
  {
   "cell_type": "code",
   "execution_count": 23,
   "metadata": {},
   "outputs": [],
   "source": [
    "import pandas as pd"
   ]
  },
  {
   "cell_type": "markdown",
   "metadata": {},
   "source": [
    "## Importation des données"
   ]
  },
  {
   "cell_type": "code",
   "execution_count": 24,
   "metadata": {},
   "outputs": [],
   "source": [
    "df_customers = pd.read_csv('datas/olist_customers_dataset.csv')\n",
    "df_geolocation = pd.read_csv('datas/olist_geolocation_dataset.csv')\n",
    "df_order_items = pd.read_csv('datas/olist_order_items_dataset.csv')\n",
    "df_order_payments = pd.read_csv('datas/olist_order_payments_dataset.csv')\n",
    "df_order_reviews = pd.read_csv('datas/olist_order_reviews_dataset.csv')\n",
    "df_orders = pd.read_csv('datas/olist_orders_dataset.csv')\n",
    "df_products = pd.read_csv('datas/olist_products_dataset.csv')\n",
    "df_sellers = pd.read_csv('datas/olist_sellers_dataset.csv')\n",
    "df_category_name_translation = pd.read_csv('datas/product_category_name_translation.csv')"
   ]
  },
  {
   "cell_type": "markdown",
   "metadata": {},
   "source": [
    "## Extraction des données\n",
    "\n",
    "### Structure des données\n",
    "\n",
    "\n",
    "#### Customer\n",
    "- **Customer ID:** [customer_id]\n",
    "- **Customer Unique ID:** [customer_unique_id]\n",
    "- **Zip Code Prefix:** [customer_zip_code_prefix]\n",
    "- **City:** [customer_city]\n",
    "- **State:** [customer_state]\n",
    "\n",
    "##### Geolocation\n",
    "- **Zip Code Prefix:** [geolocation_zip_code_prefix]\n",
    "- **Latitude:** [geolocation_lat]\n",
    "- **Longitude:** [geolocation_lng]\n",
    "- **City:** [geolocation_city]\n",
    "- **State:** [geolocation_state]\n",
    "\n",
    "#### Order Items\n",
    "- **Order ID:** [order_id]\n",
    "- **Order Item ID:** [order_item_id]\n",
    "- **Product ID:** [product_id]\n",
    "- **Seller ID:** [seller_id]\n",
    "- **Shipping Limit Date:** [shipping_limit_date]\n",
    "- **Price:** [price]\n",
    "- **Freight Value:** [freight_value]\n",
    "\n",
    "#### Order Payment\n",
    "- **Order ID:** [order_id]\n",
    "- **Payment Sequential:** [payment_sequential]\n",
    "- **Payment Type:** [payment_type]\n",
    "- **Payment Installments:** [payment_installments]\n",
    "- **Payment Value:** [payment_value]\n",
    "\n",
    "#### Order Reviews\n",
    "- **Review ID:** [review_id]\n",
    "- **Order ID:** [order_id]\n",
    "- **Review Score:** [review_score]\n",
    "- **Review Comment Title:** [review_comment_title]\n",
    "- **Review Comment Message:** [review_comment_message]\n",
    "- **Review Creation Date:** [review_creation_date]\n",
    "- **Review Answer Timestamp:** [review_answer_timestamp]\n",
    "\n",
    "#### Order\n",
    "- **Order ID:** [order_id]\n",
    "- **Customer ID:** [customer_id]\n",
    "- **Order Status:** [order_status]\n",
    "- **Order Purchase Timestamp:** [order_purchase_timestamp]\n",
    "- **Order Approved At:** [order_approved_at]\n",
    "- **Order Delivered Carrier Date:** [order_delivered_carrier_date]\n",
    "- **Order Delivered Customer Date:** [order_delivered_customer_date]\n",
    "- **Order Estimated Delivery Date:** [order_estimated_delivery_date]\n",
    "\n",
    "#### Products\n",
    "- **Product ID:** [product_id]\n",
    "- **Product Category Name:** [product_category_name]\n",
    "- **Product Name Length:** [product_name_length]\n",
    "- **Product Description Length:** [product_description_length]\n",
    "- **Product Photos Qty:** [product_photos_qty]\n",
    "- **Product Weight (g):** [product_weight_g]\n",
    "- **Product Length (cm):** [product_length_cm]\n",
    "- **Product Height (cm):** [product_height_cm]\n",
    "- **Product Width (cm):** [product_width_cm]\n",
    "\n",
    "#### Sellers\n",
    "- **Seller ID:** [seller_id]\n",
    "- **Seller Zip Code Prefix:** [seller_zip_code_prefix]\n",
    "- **Seller City:** [seller_city]\n",
    "- **Seller State:** [seller_state]\n",
    "\n"
   ]
  }
 ],
 "metadata": {
  "kernelspec": {
   "display_name": ".env",
   "language": "python",
   "name": "python3"
  },
  "language_info": {
   "codemirror_mode": {
    "name": "ipython",
    "version": 3
   },
   "file_extension": ".py",
   "mimetype": "text/x-python",
   "name": "python",
   "nbconvert_exporter": "python",
   "pygments_lexer": "ipython3",
   "version": "3.11.5"
  }
 },
 "nbformat": 4,
 "nbformat_minor": 2
}
