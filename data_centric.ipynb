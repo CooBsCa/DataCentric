{
 "cells": [
  {
   "cell_type": "code",
   "execution_count": 2,
   "metadata": {},
   "outputs": [],
   "source": [
    "import pandas as pd"
   ]
  },
  {
   "cell_type": "code",
   "execution_count": 4,
   "metadata": {},
   "outputs": [
    {
     "name": "stdout",
     "output_type": "stream",
     "text": [
      "                            customer_id                customer_unique_id  \\\n",
      "0      06b8999e2fba1a1fbc88172c00ba8bc7  861eff4711a542e4b93843c6dd7febb0   \n",
      "1      18955e83d337fd6b2def6b18a428ac77  290c77bc529b7ac935b93aa66c333dc3   \n",
      "2      4e7b3e00288586ebd08712fdd0374a03  060e732b5b29e8181a18229c7b0b2b5e   \n",
      "3      b2b6027bc5c5109e529d4dc6358b12c3  259dac757896d24d7702b9acbbff3f3c   \n",
      "4      4f2d8ab171c80ec8364f7c12e35b23ad  345ecd01c38d18a9036ed96c73b8d066   \n",
      "...                                 ...                               ...   \n",
      "99436  17ddf5dd5d51696bb3d7c6291687be6f  1a29b476fee25c95fbafc67c5ac95cf8   \n",
      "99437  e7b71a9017aa05c9a7fd292d714858e8  d52a67c98be1cf6a5c84435bd38d095d   \n",
      "99438  5e28dfe12db7fb50a4b2f691faecea5e  e9f50caf99f032f0bf3c55141f019d99   \n",
      "99439  56b18e2166679b8a959d72dd06da27f9  73c2643a0a458b49f58cea58833b192e   \n",
      "99440  274fa6071e5e17fe303b9748641082c8  84732c5050c01db9b23e19ba39899398   \n",
      "\n",
      "       customer_zip_code_prefix          customer_city customer_state  \n",
      "0                         14409                 franca             SP  \n",
      "1                          9790  sao bernardo do campo             SP  \n",
      "2                          1151              sao paulo             SP  \n",
      "3                          8775        mogi das cruzes             SP  \n",
      "4                         13056               campinas             SP  \n",
      "...                         ...                    ...            ...  \n",
      "99436                      3937              sao paulo             SP  \n",
      "99437                      6764        taboao da serra             SP  \n",
      "99438                     60115              fortaleza             CE  \n",
      "99439                     92120                 canoas             RS  \n",
      "99440                      6703                  cotia             SP  \n",
      "\n",
      "[99441 rows x 5 columns]\n"
     ]
    }
   ],
   "source": [
    "df_customers = pd.read_csv('datas/olist_customers_dataset.csv')\n",
    "df_geolocation = pd.read_csv('datas/olist_geolocation_dataset.csv')\n",
    "df_order_items = pd.read_csv('datas/olist_order_items_dataset.csv')\n",
    "df_order_payments = pd.read_csv('datas/olist_order_payments_dataset.csv')\n",
    "df_order_reviews = pd.read_csv('datas/olist_order_reviews_dataset.csv')\n",
    "df_orders = pd.read_csv('datas/olist_orders_dataset.csv')\n",
    "df_products = pd.read_csv('datas/olist_products_dataset.csv')\n",
    "df_sellers = pd.read_csv('datas/olist_sellers_dataset.csv')\n",
    "df_category_name_translation = pd.read_csv('datas/product_category_name_translation.csv')"
   ]
  }
 ],
 "metadata": {
  "kernelspec": {
   "display_name": ".env",
   "language": "python",
   "name": "python3"
  },
  "language_info": {
   "codemirror_mode": {
    "name": "ipython",
    "version": 3
   },
   "file_extension": ".py",
   "mimetype": "text/x-python",
   "name": "python",
   "nbconvert_exporter": "python",
   "pygments_lexer": "ipython3",
   "version": "3.11.5"
  }
 },
 "nbformat": 4,
 "nbformat_minor": 2
}
