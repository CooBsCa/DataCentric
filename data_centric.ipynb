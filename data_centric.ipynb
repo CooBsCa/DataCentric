{
 "cells": [
  {
   "cell_type": "code",
   "execution_count": 2,
   "metadata": {},
   "outputs": [],
   "source": [
    "import pandas as pd"
   ]
  },
  {
   "cell_type": "code",
   "execution_count": 5,
   "metadata": {},
   "outputs": [],
   "source": [
    "df_customers = pd.read_csv('datas/olist_customers_dataset.csv')\n",
    "df_geolocation = pd.read_csv('datas/olist_geolocation_dataset.csv')\n",
    "df_order_items = pd.read_csv('datas/olist_order_items_dataset.csv')\n",
    "df_order_payments = pd.read_csv('datas/olist_order_payments_dataset.csv')\n",
    "df_order_reviews = pd.read_csv('datas/olist_order_reviews_dataset.csv')\n",
    "df_orders = pd.read_csv('datas/olist_orders_dataset.csv')\n",
    "df_products = pd.read_csv('datas/olist_products_dataset.csv')\n",
    "df_sellers = pd.read_csv('datas/olist_sellers_dataset.csv')\n",
    "df_category_name_translation = pd.read_csv('datas/product_category_name_translation.csv')"
   ]
  }
 ],
 "metadata": {
  "kernelspec": {
   "display_name": ".env",
   "language": "python",
   "name": "python3"
  },
  "language_info": {
   "codemirror_mode": {
    "name": "ipython",
    "version": 3
   },
   "file_extension": ".py",
   "mimetype": "text/x-python",
   "name": "python",
   "nbconvert_exporter": "python",
   "pygments_lexer": "ipython3",
   "version": "3.11.5"
  }
 },
 "nbformat": 4,
 "nbformat_minor": 2
}
