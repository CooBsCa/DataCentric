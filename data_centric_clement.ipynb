{
  "cells": [
    {
      "cell_type": "markdown",
      "metadata": {},
      "source": [
        "# Data centric\n",
        "CHEMIN Bastien  \n",
        "GUITON Clément"
      ]
    },
    {
      "cell_type": "code",
      "execution_count": 3,
      "metadata": {},
      "outputs": [],
      "source": [
        "import pandas as pd"
      ]
    },
    {
      "cell_type": "markdown",
      "metadata": {},
      "source": [
        "## Importation des données"
      ]
    },
    {
      "cell_type": "code",
      "execution_count": 4,
      "metadata": {},
      "outputs": [],
      "source": [
        "olist_customers = pd.read_csv('datas/olist_customers_dataset.csv')\n",
        "olist_geolocation = pd.read_csv('datas/olist_geolocation_dataset.csv')\n",
        "olist_order_items = pd.read_csv('datas/olist_order_items_dataset.csv')\n",
        "olist_order_payments = pd.read_csv('datas/olist_order_payments_dataset.csv')\n",
        "olist_order_reviews = pd.read_csv('datas/olist_order_reviews_dataset.csv')\n",
        "olist_orders = pd.read_csv('datas/olist_orders_dataset.csv')\n",
        "olist_products = pd.read_csv('datas/olist_products_dataset.csv')\n",
        "olist_sellers = pd.read_csv('datas/olist_sellers_dataset.csv')\n",
        "olist_category_name_translation = pd.read_csv('datas/product_category_name_translation.csv')"
      ]
    },
    {
      "cell_type": "markdown",
      "metadata": {},
      "source": [
        "## Extraction des données\n",
        "\n",
        "### Structure des données\n",
        "\n",
        "\n",
        "#### Customer\n",
        "- **Customer ID:** [customer_id]\n",
        "- **Customer Unique ID:** [customer_unique_id]\n",
        "- **Zip Code Prefix:** [customer_zip_code_prefix]\n",
        "- **City:** [customer_city]\n",
        "- **State:** [customer_state]\n",
        "\n",
        "##### Geolocation\n",
        "- **Zip Code Prefix:** [geolocation_zip_code_prefix]\n",
        "- **Latitude:** [geolocation_lat]\n",
        "- **Longitude:** [geolocation_lng]\n",
        "- **City:** [geolocation_city]\n",
        "- **State:** [geolocation_state]\n",
        "\n",
        "#### Order Items\n",
        "- **Order ID:** [order_id]\n",
        "- **Order Item ID:** [order_item_id]\n",
        "- **Product ID:** [product_id]\n",
        "- **Seller ID:** [seller_id]\n",
        "- **Shipping Limit Date:** [shipping_limit_date]\n",
        "- **Price:** [price]\n",
        "- **Freight Value:** [freight_value]\n",
        "\n",
        "#### Order Payment\n",
        "- **Order ID:** [order_id]\n",
        "- **Payment Sequential:** [payment_sequential]\n",
        "- **Payment Type:** [payment_type]\n",
        "- **Payment Installments:** [payment_installments]\n",
        "- **Payment Value:** [payment_value]\n",
        "\n",
        "#### Order Reviews\n",
        "- **Review ID:** [review_id]\n",
        "- **Order ID:** [order_id]\n",
        "- **Review Score:** [review_score]\n",
        "- **Review Comment Title:** [review_comment_title]\n",
        "- **Review Comment Message:** [review_comment_message]\n",
        "- **Review Creation Date:** [review_creation_date]\n",
        "- **Review Answer Timestamp:** [review_answer_timestamp]\n",
        "\n",
        "#### Order\n",
        "- **Order ID:** [order_id]\n",
        "- **Customer ID:** [customer_id]\n",
        "- **Order Status:** [order_status]\n",
        "- **Order Purchase Timestamp:** [order_purchase_timestamp]\n",
        "- **Order Approved At:** [order_approved_at]\n",
        "- **Order Delivered Carrier Date:** [order_delivered_carrier_date]\n",
        "- **Order Delivered Customer Date:** [order_delivered_customer_date]\n",
        "- **Order Estimated Delivery Date:** [order_estimated_delivery_date]\n",
        "\n",
        "#### Products\n",
        "- **Product ID:** [product_id]\n",
        "- **Product Category Name:** [product_category_name]\n",
        "- **Product Name Length:** [product_name_length]\n",
        "- **Product Description Length:** [product_description_length]\n",
        "- **Product Photos Qty:** [product_photos_qty]\n",
        "- **Product Weight (g):** [product_weight_g]\n",
        "- **Product Length (cm):** [product_length_cm]\n",
        "- **Product Height (cm):** [product_height_cm]\n",
        "- **Product Width (cm):** [product_width_cm]\n",
        "\n",
        "#### Sellers\n",
        "- **Seller ID:** [seller_id]\n",
        "- **Seller Zip Code Prefix:** [seller_zip_code_prefix]\n",
        "- **Seller City:** [seller_city]\n",
        "- **Seller State:** [seller_state]\n",
        "\n",
        "## Analyse : Vérifier si la satisfaction d'un produit est lié au temps de livraison\n",
        "### Etape 2 : Importation des données\n",
        "Pour cette analyse, nous allons utiliser les données suivantes :  \n",
        "- review_score : La note donnée par le client au produit  \n",
        "- order_purchase_timestamp : La date d'achat du produit  \n",
        "- order_delivered_customer_date : La date de livraison du produit"
      ]
    },
    {
      "cell_type": "markdown",
      "metadata": {},
      "source": [
        "### Etape 3 : Transformation des données\n",
        "####  3.1 : Sélection des colonnes"
      ]
    },
    {
      "cell_type": "code",
      "execution_count": 6,
      "metadata": {},
      "outputs": [
        {
          "data": {
            "text/html": [
              "<div>\n",
              "<style scoped>\n",
              "    .dataframe tbody tr th:only-of-type {\n",
              "        vertical-align: middle;\n",
              "    }\n",
              "\n",
              "    .dataframe tbody tr th {\n",
              "        vertical-align: top;\n",
              "    }\n",
              "\n",
              "    .dataframe thead th {\n",
              "        text-align: right;\n",
              "    }\n",
              "</style>\n",
              "<table border=\"1\" class=\"dataframe\">\n",
              "  <thead>\n",
              "    <tr style=\"text-align: right;\">\n",
              "      <th></th>\n",
              "      <th>order_id</th>\n",
              "      <th>review_score</th>\n",
              "      <th>delivery_time</th>\n",
              "    </tr>\n",
              "  </thead>\n",
              "  <tbody>\n",
              "    <tr>\n",
              "      <th>0</th>\n",
              "      <td>e481f51cbdc54678b7cc49136f2d6af7</td>\n",
              "      <td>4</td>\n",
              "      <td>8.0</td>\n",
              "    </tr>\n",
              "    <tr>\n",
              "      <th>1</th>\n",
              "      <td>53cdb2fc8bc7dce0b6741e2150273451</td>\n",
              "      <td>4</td>\n",
              "      <td>13.0</td>\n",
              "    </tr>\n",
              "    <tr>\n",
              "      <th>2</th>\n",
              "      <td>47770eb9100c2d0c44946d9cf07ec65d</td>\n",
              "      <td>5</td>\n",
              "      <td>9.0</td>\n",
              "    </tr>\n",
              "    <tr>\n",
              "      <th>3</th>\n",
              "      <td>949d5b44dbf5de918fe9c16f97b45f8a</td>\n",
              "      <td>5</td>\n",
              "      <td>13.0</td>\n",
              "    </tr>\n",
              "    <tr>\n",
              "      <th>4</th>\n",
              "      <td>ad21c59c0840e6cb83a9ceb5573f8159</td>\n",
              "      <td>5</td>\n",
              "      <td>2.0</td>\n",
              "    </tr>\n",
              "  </tbody>\n",
              "</table>\n",
              "</div>"
            ],
            "text/plain": [
              "                           order_id  review_score  delivery_time\n",
              "0  e481f51cbdc54678b7cc49136f2d6af7             4            8.0\n",
              "1  53cdb2fc8bc7dce0b6741e2150273451             4           13.0\n",
              "2  47770eb9100c2d0c44946d9cf07ec65d             5            9.0\n",
              "3  949d5b44dbf5de918fe9c16f97b45f8a             5           13.0\n",
              "4  ad21c59c0840e6cb83a9ceb5573f8159             5            2.0"
            ]
          },
          "execution_count": 6,
          "metadata": {},
          "output_type": "execute_result"
        }
      ],
      "source": [
        "df_orders = olist_orders[\n",
        "    [\n",
        "        \"order_id\",\n",
        "        \"order_purchase_timestamp\",\n",
        "        \"order_delivered_customer_date\",\n",
        "    ]\n",
        "]\n",
        "df_order_reviews = olist_order_reviews[[\"order_id\", \"review_score\"]]\n",
        "### 3.2 : Jointure des données\n",
        "df_orders = df_orders.merge(df_order_reviews, on=\"order_id\", how=\"inner\")\n",
        "### 3.3 : Calcul du temps de livraison\n",
        "df_orders[\"order_purchase_timestamp\"] = pd.to_datetime(df_orders[\"order_purchase_timestamp\"])\n",
        "df_orders[\"order_delivered_customer_date\"] = pd.to_datetime(\n",
        "    df_orders[\"order_delivered_customer_date\"]\n",
        ")\n",
        "df_orders[\"delivery_time\"] = (\n",
        "    df_orders[\"order_delivered_customer_date\"] - df_orders[\"order_purchase_timestamp\"]\n",
        ")\n",
        "df_orders[\"delivery_time\"] = df_orders[\"delivery_time\"].dt.days\n",
        "### 3.4 : Sélection des colonnes\n",
        "df_orders = df_orders[[\"order_id\", \"review_score\", \"delivery_time\"]]\n",
        "### 3.5 : Netoyage des données\n",
        "df_orders = df_orders.dropna()\n",
        "df_orders = df_orders[df_orders[\"delivery_time\"] >= 0]\n",
        "df_orders = df_orders[df_orders[\"review_score\"] >= 1]\n",
        "df_orders = df_orders[df_orders[\"review_score\"] <= 5]\n",
        "df_orders.head()"
      ]
    },
    {
      "cell_type": "code",
      "execution_count": 7,
      "metadata": {},
      "outputs": [
        {
          "data": {
            "text/html": [
              "<div>\n",
              "<style scoped>\n",
              "    .dataframe tbody tr th:only-of-type {\n",
              "        vertical-align: middle;\n",
              "    }\n",
              "\n",
              "    .dataframe tbody tr th {\n",
              "        vertical-align: top;\n",
              "    }\n",
              "\n",
              "    .dataframe thead th {\n",
              "        text-align: right;\n",
              "    }\n",
              "</style>\n",
              "<table border=\"1\" class=\"dataframe\">\n",
              "  <thead>\n",
              "    <tr style=\"text-align: right;\">\n",
              "      <th></th>\n",
              "      <th>delivery_time</th>\n",
              "      <th>review_score</th>\n",
              "    </tr>\n",
              "  </thead>\n",
              "  <tbody>\n",
              "    <tr>\n",
              "      <th>0</th>\n",
              "      <td>0.0</td>\n",
              "      <td>4.230769</td>\n",
              "    </tr>\n",
              "    <tr>\n",
              "      <th>1</th>\n",
              "      <td>1.0</td>\n",
              "      <td>4.495547</td>\n",
              "    </tr>\n",
              "    <tr>\n",
              "      <th>2</th>\n",
              "      <td>2.0</td>\n",
              "      <td>4.478330</td>\n",
              "    </tr>\n",
              "    <tr>\n",
              "      <th>3</th>\n",
              "      <td>3.0</td>\n",
              "      <td>4.431169</td>\n",
              "    </tr>\n",
              "    <tr>\n",
              "      <th>4</th>\n",
              "      <td>4.0</td>\n",
              "      <td>4.425792</td>\n",
              "    </tr>\n",
              "  </tbody>\n",
              "</table>\n",
              "</div>"
            ],
            "text/plain": [
              "   delivery_time  review_score\n",
              "0            0.0      4.230769\n",
              "1            1.0      4.495547\n",
              "2            2.0      4.478330\n",
              "3            3.0      4.431169\n",
              "4            4.0      4.425792"
            ]
          },
          "execution_count": 7,
          "metadata": {},
          "output_type": "execute_result"
        }
      ],
      "source": [
        "#### Moyenne des notes en fonction du temps de livraison\n",
        "df_review_by_delivery = df_orders.groupby(\"delivery_time\")[\"review_score\"].mean()\n",
        "df_review_by_delivery = df_review_by_delivery.reset_index()\n",
        "df_review_by_delivery.head()"
      ]
    },
    {
      "cell_type": "code",
      "execution_count": 8,
      "metadata": {},
      "outputs": [
        {
          "data": {
            "image/png": "[encoded data removed]",
            "text/plain": [
              "<Figure size 432x288 with 1 Axes>"
            ]
          },
          "metadata": {
            "needs_background": "light"
          },
          "output_type": "display_data"
        }
      ],
      "source": [
        "#### Visualisation des données\n",
        "import matplotlib.pyplot as plt\n",
        "plt.scatter(\n",
        "    df_review_by_delivery[\"delivery_time\"], df_review_by_delivery[\"review_score\"]\n",
        ")\n",
        "plt.xlabel(\"delivery_time\")\n",
        "plt.ylabel(\"review_score\")\n",
        "plt.title(\"Note en fonction du temp de livraison\")\n",
        "plt.show()"
      ]
    },
    {
      "cell_type": "code",
      "execution_count": 9,
      "metadata": {},
      "outputs": [],
      "source": [
        "#### On constante qu'au dessus de 50 jours de livraisons, les quantités de livraisons ne sont pas assez significatives pour être représentatives. On va donc se concentrer sur les livraisons de moins de 50 jours.\n",
        "df_review_by_delivery = df_review_by_delivery[df_review_by_delivery[\"delivery_time\"] <= 50]\n",
        "df_orders = df_orders[df_orders[\"delivery_time\"] <= 50]"
      ]
    },
    {
      "cell_type": "code",
      "execution_count": 10,
      "metadata": {},
      "outputs": [
        {
          "data": {
            "image/png": "[encoded data removed]",
            "text/plain": [
              "<Figure size 432x288 with 1 Axes>"
            ]
          },
          "metadata": {
            "needs_background": "light"
          },
          "output_type": "display_data"
        }
      ],
      "source": [
        "import matplotlib.pyplot as plt\n",
        "\n",
        "plt.scatter(\n",
        "    df_review_by_delivery[\"delivery_time\"], df_review_by_delivery[\"review_score\"]\n",
        ")\n",
        "plt.xlabel(\"delivery_time\")\n",
        "plt.ylabel(\"review_score\")\n",
        "plt.title(\"Note en fonction du temp de livraison\")\n",
        "plt.show()"
      ]
    },
    {
      "cell_type": "markdown",
      "metadata": {},
      "source": [
        "On peut donc constater qu'il y a une relation entre la satisfaction d'un produit et le temps de livraison.\n",
        "Entre 20 jours, l'impact est assez faible mais après 20 jours, la satisfaction baisse de manière importante."
      ]
    },
    {
      "cell_type": "markdown",
      "metadata": {},
      "source": [
        "#### Analyse du cout de livraison en fonction du temps de livraison"
      ]
    },
    {
      "cell_type": "code",
      "execution_count": 11,
      "metadata": {},
      "outputs": [
        {
          "name": "stderr",
          "output_type": "stream",
          "text": [
            "/tmp/ipykernel_120453/1563362063.py:3: SettingWithCopyWarning: \n",
            "A value is trying to be set on a copy of a slice from a DataFrame.\n",
            "Try using .loc[row_indexer,col_indexer] = value instead\n",
            "\n",
            "See the caveats in the documentation: https://pandas.pydata.org/pandas-docs/stable/user_guide/indexing.html#returning-a-view-versus-a-copy\n",
            "  df_order_items[\"total_price\"] = df_order_items[\"price\"] + df_order_items[\"freight_value\"]\n"
          ]
        },
        {
          "data": {
            "text/html": [
              "<div>\n",
              "<style scoped>\n",
              "    .dataframe tbody tr th:only-of-type {\n",
              "        vertical-align: middle;\n",
              "    }\n",
              "\n",
              "    .dataframe tbody tr th {\n",
              "        vertical-align: top;\n",
              "    }\n",
              "\n",
              "    .dataframe thead th {\n",
              "        text-align: right;\n",
              "    }\n",
              "</style>\n",
              "<table border=\"1\" class=\"dataframe\">\n",
              "  <thead>\n",
              "    <tr style=\"text-align: right;\">\n",
              "      <th></th>\n",
              "      <th>order_id</th>\n",
              "      <th>product_id</th>\n",
              "      <th>total_price</th>\n",
              "    </tr>\n",
              "  </thead>\n",
              "  <tbody>\n",
              "    <tr>\n",
              "      <th>0</th>\n",
              "      <td>00010242fe8c5a6d1ba2dd792cb16214</td>\n",
              "      <td>4244733e06e7ecb4970a6e2683c13e61</td>\n",
              "      <td>72.19</td>\n",
              "    </tr>\n",
              "    <tr>\n",
              "      <th>1</th>\n",
              "      <td>00018f77f2f0320c557190d7a144bdd3</td>\n",
              "      <td>e5f2d52b802189ee658865ca93d83a8f</td>\n",
              "      <td>259.83</td>\n",
              "    </tr>\n",
              "    <tr>\n",
              "      <th>2</th>\n",
              "      <td>000229ec398224ef6ca0657da4fc703e</td>\n",
              "      <td>c777355d18b72b67abbeef9df44fd0fd</td>\n",
              "      <td>216.87</td>\n",
              "    </tr>\n",
              "    <tr>\n",
              "      <th>3</th>\n",
              "      <td>00024acbcdf0a6daa1e931b038114c75</td>\n",
              "      <td>7634da152a4610f1595efa32f14722fc</td>\n",
              "      <td>25.78</td>\n",
              "    </tr>\n",
              "    <tr>\n",
              "      <th>4</th>\n",
              "      <td>00042b26cf59d7ce69dfabb4e55b4fd9</td>\n",
              "      <td>ac6c3623068f30de03045865e4e10089</td>\n",
              "      <td>218.04</td>\n",
              "    </tr>\n",
              "  </tbody>\n",
              "</table>\n",
              "</div>"
            ],
            "text/plain": [
              "                           order_id                        product_id  \\\n",
              "0  00010242fe8c5a6d1ba2dd792cb16214  4244733e06e7ecb4970a6e2683c13e61   \n",
              "1  00018f77f2f0320c557190d7a144bdd3  e5f2d52b802189ee658865ca93d83a8f   \n",
              "2  000229ec398224ef6ca0657da4fc703e  c777355d18b72b67abbeef9df44fd0fd   \n",
              "3  00024acbcdf0a6daa1e931b038114c75  7634da152a4610f1595efa32f14722fc   \n",
              "4  00042b26cf59d7ce69dfabb4e55b4fd9  ac6c3623068f30de03045865e4e10089   \n",
              "\n",
              "   total_price  \n",
              "0        72.19  \n",
              "1       259.83  \n",
              "2       216.87  \n",
              "3        25.78  \n",
              "4       218.04  "
            ]
          },
          "execution_count": 11,
          "metadata": {},
          "output_type": "execute_result"
        }
      ],
      "source": [
        "### Correlation entre le nombres de ventes d'un produit et la fraight_value\n",
        "df_order_items = olist_order_items[[\"order_id\", \"product_id\", \"price\", \"freight_value\"]]\n",
        "df_order_items[\"total_price\"] = df_order_items[\"price\"] + df_order_items[\"freight_value\"]\n",
        "df_order_items = df_order_items.drop([\"price\", \"freight_value\"], axis=1)\n",
        "df_order_items.head()\n"
      ]
    }
  ],
  "metadata": {
    "kernelspec": {
      "display_name": ".env",
      "language": "python",
      "name": "python3"
    },
    "language_info": {
      "codemirror_mode": {
        "name": "ipython",
        "version": 3
      },
      "file_extension": ".py",
      "mimetype": "text/x-python",
      "name": "python",
      "nbconvert_exporter": "python",
      "pygments_lexer": "ipython3",
      "version": "3.10.12"
    }
  },
  "nbformat": 4,
  "nbformat_minor": 2
}
